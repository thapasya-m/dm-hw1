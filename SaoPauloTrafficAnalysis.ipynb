{
 "cells": [
  {
   "cell_type": "code",
   "execution_count": 2,
   "metadata": {},
   "outputs": [
    {
     "name": "stdout",
     "output_type": "stream",
     "text": [
      "\u001b[33mDEPRECATION: Python 2.7 reached the end of its life on January 1st, 2020. Please upgrade your Python as Python 2.7 is no longer maintained. pip 21.0 will drop support for Python 2.7 in January 2021. More details about Python 2 support in pip can be found at https://pip.pypa.io/en/latest/development/release-process/#python-2-support pip 21.0 will remove support for this functionality.\u001b[0m\n",
      "Requirement already satisfied: matplotlib in /Library/Frameworks/Python.framework/Versions/2.7/lib/python2.7/site-packages (2.2.5)\n",
      "Requirement already satisfied: cycler>=0.10 in /Library/Frameworks/Python.framework/Versions/2.7/lib/python2.7/site-packages (from matplotlib) (0.10.0)\n",
      "Requirement already satisfied: pytz in /Library/Frameworks/Python.framework/Versions/2.7/lib/python2.7/site-packages (from matplotlib) (2022.2.1)\n",
      "Requirement already satisfied: python-dateutil>=2.1 in /Library/Frameworks/Python.framework/Versions/2.7/lib/python2.7/site-packages (from matplotlib) (2.8.2)\n",
      "Requirement already satisfied: six>=1.10 in /Library/Frameworks/Python.framework/Versions/2.7/lib/python2.7/site-packages (from matplotlib) (1.16.0)\n",
      "Requirement already satisfied: subprocess32 in /Library/Frameworks/Python.framework/Versions/2.7/lib/python2.7/site-packages (from matplotlib) (3.5.4)\n",
      "Requirement already satisfied: kiwisolver>=1.0.1 in /Library/Frameworks/Python.framework/Versions/2.7/lib/python2.7/site-packages (from matplotlib) (1.1.0)\n",
      "Requirement already satisfied: backports.functools-lru-cache in /Library/Frameworks/Python.framework/Versions/2.7/lib/python2.7/site-packages (from matplotlib) (1.6.4)\n",
      "Requirement already satisfied: numpy>=1.7.1 in /Library/Frameworks/Python.framework/Versions/2.7/lib/python2.7/site-packages (from matplotlib) (1.16.6)\n",
      "Requirement already satisfied: pyparsing!=2.0.4,!=2.1.2,!=2.1.6,>=2.0.1 in /Library/Frameworks/Python.framework/Versions/2.7/lib/python2.7/site-packages (from matplotlib) (2.4.7)\n",
      "Requirement already satisfied: setuptools in /Library/Frameworks/Python.framework/Versions/2.7/lib/python2.7/site-packages (from kiwisolver>=1.0.1->matplotlib) (41.2.0)\n",
      "\u001b[33mDEPRECATION: Python 2.7 reached the end of its life on January 1st, 2020. Please upgrade your Python as Python 2.7 is no longer maintained. pip 21.0 will drop support for Python 2.7 in January 2021. More details about Python 2 support in pip can be found at https://pip.pypa.io/en/latest/development/release-process/#python-2-support pip 21.0 will remove support for this functionality.\u001b[0m\n",
      "Requirement already satisfied: pandas in /Library/Frameworks/Python.framework/Versions/2.7/lib/python2.7/site-packages (0.24.2)\n",
      "Requirement already satisfied: python-dateutil>=2.5.0 in /Library/Frameworks/Python.framework/Versions/2.7/lib/python2.7/site-packages (from pandas) (2.8.2)\n",
      "Requirement already satisfied: pytz>=2011k in /Library/Frameworks/Python.framework/Versions/2.7/lib/python2.7/site-packages (from pandas) (2022.2.1)\n",
      "Requirement already satisfied: numpy>=1.12.0 in /Library/Frameworks/Python.framework/Versions/2.7/lib/python2.7/site-packages (from pandas) (1.16.6)\n",
      "Requirement already satisfied: six>=1.5 in /Library/Frameworks/Python.framework/Versions/2.7/lib/python2.7/site-packages (from python-dateutil>=2.5.0->pandas) (1.16.0)\n"
     ]
    }
   ],
   "source": [
    "#!pip install matplotlib\n",
    "#!pip install pandas\n",
    "import pandas as pd"
   ]
  },
  {
   "cell_type": "code",
   "execution_count": 15,
   "metadata": {},
   "outputs": [
    {
     "data": {
      "text/html": [
       "<div>\n",
       "<style scoped>\n",
       "    .dataframe tbody tr th:only-of-type {\n",
       "        vertical-align: middle;\n",
       "    }\n",
       "\n",
       "    .dataframe tbody tr th {\n",
       "        vertical-align: top;\n",
       "    }\n",
       "\n",
       "    .dataframe thead th {\n",
       "        text-align: right;\n",
       "    }\n",
       "</style>\n",
       "<table border=\"1\" class=\"dataframe\">\n",
       "  <thead>\n",
       "    <tr style=\"text-align: right;\">\n",
       "      <th></th>\n",
       "      <th>Hour (Coded)</th>\n",
       "      <th>Immobilized bus</th>\n",
       "      <th>Broken Truck</th>\n",
       "      <th>Vehicle excess</th>\n",
       "      <th>Accident victim</th>\n",
       "      <th>Running over</th>\n",
       "      <th>Fire vehicles</th>\n",
       "      <th>Occurrence involving freight</th>\n",
       "      <th>Incident involving dangerous freight</th>\n",
       "      <th>Lack of electricity</th>\n",
       "      <th>Fire</th>\n",
       "      <th>Point of flooding</th>\n",
       "      <th>Manifestations</th>\n",
       "      <th>Defect in the network of trolleybuses</th>\n",
       "      <th>Tree on the road</th>\n",
       "      <th>Semaphore off</th>\n",
       "      <th>Intermittent Semaphore</th>\n",
       "      <th>Slowness in traffic (%)</th>\n",
       "    </tr>\n",
       "  </thead>\n",
       "  <tbody>\n",
       "    <tr>\n",
       "      <th>0</th>\n",
       "      <td>1</td>\n",
       "      <td>0</td>\n",
       "      <td>0</td>\n",
       "      <td>0</td>\n",
       "      <td>0</td>\n",
       "      <td>0</td>\n",
       "      <td>0</td>\n",
       "      <td>0</td>\n",
       "      <td>0</td>\n",
       "      <td>0</td>\n",
       "      <td>0</td>\n",
       "      <td>0</td>\n",
       "      <td>0</td>\n",
       "      <td>0</td>\n",
       "      <td>0</td>\n",
       "      <td>0</td>\n",
       "      <td>0</td>\n",
       "      <td>4,1</td>\n",
       "    </tr>\n",
       "    <tr>\n",
       "      <th>1</th>\n",
       "      <td>2</td>\n",
       "      <td>0</td>\n",
       "      <td>0</td>\n",
       "      <td>0</td>\n",
       "      <td>0</td>\n",
       "      <td>0</td>\n",
       "      <td>0</td>\n",
       "      <td>0</td>\n",
       "      <td>0</td>\n",
       "      <td>0</td>\n",
       "      <td>0</td>\n",
       "      <td>0</td>\n",
       "      <td>0</td>\n",
       "      <td>0</td>\n",
       "      <td>0</td>\n",
       "      <td>0</td>\n",
       "      <td>0</td>\n",
       "      <td>6,6</td>\n",
       "    </tr>\n",
       "    <tr>\n",
       "      <th>2</th>\n",
       "      <td>3</td>\n",
       "      <td>0</td>\n",
       "      <td>0</td>\n",
       "      <td>0</td>\n",
       "      <td>0</td>\n",
       "      <td>0</td>\n",
       "      <td>0</td>\n",
       "      <td>0</td>\n",
       "      <td>0</td>\n",
       "      <td>0</td>\n",
       "      <td>0</td>\n",
       "      <td>0</td>\n",
       "      <td>0</td>\n",
       "      <td>0</td>\n",
       "      <td>0</td>\n",
       "      <td>0</td>\n",
       "      <td>0</td>\n",
       "      <td>8,7</td>\n",
       "    </tr>\n",
       "    <tr>\n",
       "      <th>3</th>\n",
       "      <td>4</td>\n",
       "      <td>0</td>\n",
       "      <td>0</td>\n",
       "      <td>0</td>\n",
       "      <td>0</td>\n",
       "      <td>0</td>\n",
       "      <td>0</td>\n",
       "      <td>0</td>\n",
       "      <td>0</td>\n",
       "      <td>0</td>\n",
       "      <td>0</td>\n",
       "      <td>0</td>\n",
       "      <td>0</td>\n",
       "      <td>0</td>\n",
       "      <td>0</td>\n",
       "      <td>0</td>\n",
       "      <td>0</td>\n",
       "      <td>9,2</td>\n",
       "    </tr>\n",
       "    <tr>\n",
       "      <th>4</th>\n",
       "      <td>5</td>\n",
       "      <td>0</td>\n",
       "      <td>0</td>\n",
       "      <td>0</td>\n",
       "      <td>0</td>\n",
       "      <td>0</td>\n",
       "      <td>0</td>\n",
       "      <td>0</td>\n",
       "      <td>0</td>\n",
       "      <td>0</td>\n",
       "      <td>0</td>\n",
       "      <td>0</td>\n",
       "      <td>0</td>\n",
       "      <td>0</td>\n",
       "      <td>0</td>\n",
       "      <td>0</td>\n",
       "      <td>0</td>\n",
       "      <td>11,1</td>\n",
       "    </tr>\n",
       "  </tbody>\n",
       "</table>\n",
       "</div>"
      ],
      "text/plain": [
       "   Hour (Coded)  Immobilized bus  Broken Truck  Vehicle excess  \\\n",
       "0             1                0             0               0   \n",
       "1             2                0             0               0   \n",
       "2             3                0             0               0   \n",
       "3             4                0             0               0   \n",
       "4             5                0             0               0   \n",
       "\n",
       "   Accident victim  Running over  Fire vehicles  Occurrence involving freight  \\\n",
       "0                0             0              0                             0   \n",
       "1                0             0              0                             0   \n",
       "2                0             0              0                             0   \n",
       "3                0             0              0                             0   \n",
       "4                0             0              0                             0   \n",
       "\n",
       "   Incident involving dangerous freight  Lack of electricity  Fire  \\\n",
       "0                                     0                    0     0   \n",
       "1                                     0                    0     0   \n",
       "2                                     0                    0     0   \n",
       "3                                     0                    0     0   \n",
       "4                                     0                    0     0   \n",
       "\n",
       "   Point of flooding  Manifestations  Defect in the network of trolleybuses  \\\n",
       "0                  0               0                                      0   \n",
       "1                  0               0                                      0   \n",
       "2                  0               0                                      0   \n",
       "3                  0               0                                      0   \n",
       "4                  0               0                                      0   \n",
       "\n",
       "   Tree on the road  Semaphore off  Intermittent Semaphore  \\\n",
       "0                 0              0                       0   \n",
       "1                 0              0                       0   \n",
       "2                 0              0                       0   \n",
       "3                 0              0                       0   \n",
       "4                 0              0                       0   \n",
       "\n",
       "  Slowness in traffic (%)  \n",
       "0                     4,1  \n",
       "1                     6,6  \n",
       "2                     8,7  \n",
       "3                     9,2  \n",
       "4                    11,1  "
      ]
     },
     "execution_count": 15,
     "metadata": {},
     "output_type": "execute_result"
    }
   ],
   "source": [
    "df = pd.read_csv('/Users/thapasyamurali/Downloads/demodata.csv', sep = ';')\n",
    "df.head()"
   ]
  },
  {
   "cell_type": "code",
   "execution_count": 4,
   "metadata": {},
   "outputs": [],
   "source": [
    "Hour = {1: '7:00', 2: '7:30', 3: '8:00', 4: '8:30', 5: '9:00', 6: '9:30', 7: '10:00', 8: '10:30', 9:'11:00', \n",
    "         10: '11:30', 11: '12:00', 12: '12:30', 13: '13:00', 14: '13:30', 15: '14:00', 16: '14:30', 17: '15:00', \n",
    "         18: '15:30', 19: '16:00', 20: '16:30', 21: '17:00', 22: '17:30', 23: '18:00', 24: '18:30', 25: '19:00',\n",
    "         26: '19:30', 27: '20:00'}\n",
    "df['Hour'] = df['Hour (Coded)'].map(Hour)\n",
    "df['Hour'] = (df['Hour']).astype(\"string\")\n",
    "#dff = df.groupby(by='Hour')['Accident victim'].sum()\n",
    "#print(dff.plot.bar())"
   ]
  },
  {
   "cell_type": "code",
   "execution_count": 5,
   "metadata": {},
   "outputs": [
    {
     "data": {
      "text/plain": [
       "Hour (Coded)                               int64\n",
       "Immobilized bus                            int64\n",
       "Broken Truck                               int64\n",
       "Vehicle excess                             int64\n",
       "Accident victim                            int64\n",
       "Running over                               int64\n",
       "Fire vehicles                              int64\n",
       "Occurrence involving freight               int64\n",
       "Incident involving dangerous freight       int64\n",
       "Lack of electricity                        int64\n",
       "Fire                                       int64\n",
       "Point of flooding                          int64\n",
       "Manifestations                             int64\n",
       "Defect in the network of trolleybuses      int64\n",
       "Tree on the road                           int64\n",
       "Semaphore off                              int64\n",
       "Intermittent Semaphore                     int64\n",
       "Slowness in traffic (%)                   object\n",
       "Hour                                      object\n",
       "slowness %                               float64\n",
       "dtype: object"
      ]
     },
     "execution_count": 5,
     "metadata": {},
     "output_type": "execute_result"
    }
   ],
   "source": [
    "#pre-processing [column]\n",
    "df['Slowness in traffic (%)'] = df['Slowness in traffic (%)'].str.replace(pat = ',', repl = '.')\n",
    "df[\"slowness %\"] = pd.to_numeric(df[\"Slowness in traffic (%)\"], errors = 'coerce')\n",
    "#df.head()\n",
    "df.dtypes"
   ]
  },
  {
   "cell_type": "code",
   "execution_count": 9,
   "metadata": {},
   "outputs": [
    {
     "data": {
      "text/plain": [
       "<matplotlib.axes._subplots.AxesSubplot at 0x7fd008660890>"
      ]
     },
     "execution_count": 9,
     "metadata": {},
     "output_type": "execute_result"
    },
    {
     "data": {
      "image/png": "[encoded data removed]",
      "text/plain": [
       "<Figure size 432x288 with 1 Axes>"
      ]
     },
     "metadata": {
      "needs_background": "light"
     },
     "output_type": "display_data"
    }
   ],
   "source": [
    "df.plot.scatter(x = \"slowness %\", y = \"Hour (Coded)\")"
   ]
  },
  {
   "cell_type": "code",
   "execution_count": 110,
   "metadata": {},
   "outputs": [
    {
     "data": {
      "text/plain": [
       "8"
      ]
     },
     "execution_count": 110,
     "metadata": {},
     "output_type": "execute_result"
    }
   ],
   "source": [
    "#df.plot.scatter(x = \"Defect in the network of trolleybuses\", y = \"Immobilized bus\")\n",
    "#df.sort_values(by=['slowness %'], ).head(10)\n",
    "df['slowness %'].plot(kind = 'hist')\n",
    "#import math\n",
    "bins = math.ceil(7.066) + 1"
   ]
  },
  {
   "cell_type": "code",
   "execution_count": 12,
   "metadata": {},
   "outputs": [
    {
     "data": {
      "text/plain": [
       "Text(0.5,1,'Histogram of slowness in traffic')"
      ]
     },
     "execution_count": 12,
     "metadata": {},
     "output_type": "execute_result"
    },
    {
     "data": {
      "image/png": "[encoded data removed]",
      "text/plain": [
       "<Figure size 432x288 with 1 Axes>"
      ]
     },
     "metadata": {
      "needs_background": "light"
     },
     "output_type": "display_data"
    }
   ],
   "source": [
    "import matplotlib.pyplot as plt\n",
    "\n",
    "plt.hist(df['slowness %'], edgecolor = 'black', bins = 9)\n",
    "plt.xlabel('Slowness %')\n",
    "plt.ylabel('Frequency')\n",
    "plt.title('Histogram of slowness in traffic')"
   ]
  }
 ],
 "metadata": {
  "kernelspec": {
   "display_name": "Python 2",
   "language": "python",
   "name": "python2"
  },
  "language_info": {
   "codemirror_mode": {
    "name": "ipython",
    "version": 2
   },
   "file_extension": ".py",
   "mimetype": "text/x-python",
   "name": "python",
   "nbconvert_exporter": "python",
   "pygments_lexer": "ipython2",
   "version": "2.7.18"
  }
 },
 "nbformat": 4,
 "nbformat_minor": 5
}
